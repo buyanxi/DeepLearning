{
 "cells": [
  {
   "cell_type": "markdown",
   "metadata": {},
   "source": [
    "###  线性回归"
   ]
  },
  {
   "cell_type": "markdown",
   "metadata": {},
   "source": [
    "###  １、简单线性回归"
   ]
  },
  {
   "cell_type": "markdown",
   "metadata": {},
   "source": [
    "假设我们找到了最佳拟合的直线方程：\n",
    "<br>　　　　$y = ax + b$\n",
    "\n",
    "那么对于每一个样本点$x^{(i)}$，根据我们的直线方程，预测值为：\n",
    "<br>　　　　$\\hat{y}^{(i)} = ax^{(i)} + b$\n",
    "\n",
    "对于每一个样本点$x^{(i)}$，其真值为:\n",
    "<br>　　　　$y^{(i)}$"
   ]
  },
  {
   "cell_type": "markdown",
   "metadata": {},
   "source": [
    "<font size=3 face=\"黑体加粗\">１） 预测误差</font>"
   ]
  },
  {
   "cell_type": "markdown",
   "metadata": {},
   "source": [
    "<br>我们希望$y^{(i)}$和$\\hat{y}^{(i)}$的差距尽量小，误差表达为：\n",
    "<br>　　　　$(y^{(i)} - \\hat{y}^{(i)})^2$ \n",
    "\n",
    "考虑所有的样本，则误差为：\n",
    "<br>　　　　$\\sum_{i=1}^m (y^{(i)} - \\hat{y}^{(i)})^2$"
   ]
  },
  {
   "cell_type": "markdown",
   "metadata": {},
   "source": [
    "<font size=3 face=\"黑体加粗\">２） 目标函数</font>"
   ]
  },
  {
   "cell_type": "markdown",
   "metadata": {},
   "source": [
    "<br>线性回归的目标：使得$\\sum_{i=1}^m (y^{(i)} - \\hat{y}^{(i)})^2$尽可能的小。\n",
    "\n",
    "将$\\hat{y}^{(i)} = ax^{(i)} + b$带入$\\sum_{i=1}^m (y^{(i)} - \\hat{y}^{(i)})^2$，可得：\n",
    "\n",
    "<br>　　　　$\\sum_{i=1}^m (y^{(i)} - ax^{(i)} － b)^2$\n",
    "\n",
    "因此，线性回归目标变成：找到$a$和$b$，使得$\\sum_{i=1}^m (y^{(i)} - ax^{(i)} － b)^2$尽可能的小。\n",
    "\n",
    "备注：\n",
    "<br>①　目标中，只有$a$和$b$是未知数，$x^{(i)}$和$y^{(i)}$是已知的。\n",
    "<br>②　损失函数（loss function）：$\\sum_{i=1}^m (y^{(i)} - ax^{(i)} － b)^2$\n",
    "<br>③　一类机器学习算法（参数学习算法）的基本思路是：\n",
    "<br>　　　　通过分析问题，确定问题的损失函数；\n",
    "<br>　　　　通过最优化损失函数，获得机器学习的模型。"
   ]
  },
  {
   "cell_type": "markdown",
   "metadata": {},
   "source": [
    "<font size=3 face=\"黑体加粗\">３） 最小二乘法</font>"
   ]
  },
  {
   "cell_type": "markdown",
   "metadata": {},
   "source": [
    "<br>典型最小二乘法问题：最小化误差的平方\n",
    "\n",
    "最小二乘法结果为：\n",
    "<br>非向量化　　　　$a = \\cfrac{\\sum_{i=1}^m (x^{(i)} - \\overline{x})(y^{(i)} - \\overline{y})}{\\sum_{i=1}^m (x^{(i)} - \\overline{x})^2}$    　　　$b = \\overline{y} - a\\overline{x}$　\n",
    "\n",
    "<br>向量化　　　　$a = \\cfrac{(x - \\overline{x})·(y - \\overline{y})}{（x - \\overline{x})·（x - \\overline{x})}$    　　　$b = \\overline{y} - a\\overline{x}$　"
   ]
  },
  {
   "cell_type": "markdown",
   "metadata": {},
   "source": [
    "最小二乘法数学推算过程：\n",
    "\n",
    "\n",
    "对损失函数$J(a,b) = \\sum_{i=1}^m (y^{(i)} - ax^{(i)} － b)^2$分别关于$a$、$b$求导，并令其倒数等于０，可得：\n"
   ]
  },
  {
   "cell_type": "markdown",
   "metadata": {},
   "source": [
    "* 对$b$求导过程\n",
    "\n",
    "$\\cfrac{\\partial J(a,b)} {\\partial b} = -2\\sum_{i=1}^m (y^{(i)} - ax^{(i)} － b)　＝　０$\n",
    "\n",
    "<br>$\\sum_{i=1}^m (y^{(i)} - ax^{(i)} － b)　＝　０$\n",
    "\n",
    "<br>$\\sum_{i=1}^m (y^{(i)} - ax^{(i)}) － \\sum_{i=1}^m(b)　＝　０$\n",
    "\n",
    "<br>$\\sum_{i=1}^m (y^{(i)} - ax^{(i)}) － mb　＝　０$\n",
    "\n",
    "<br>$ mb　＝　\\sum_{i=1}^m (y^{(i)} - ax^{(i)})$\n",
    "\n",
    "<br>$ b　＝　\\cfrac{1}{m}{\\sum_{i=1}^m (y^{(i)} - ax^{(i)})}$\n",
    "\n",
    "<br>$ b　＝　\\overline{y} - a\\overline{x}$"
   ]
  },
  {
   "cell_type": "markdown",
   "metadata": {},
   "source": [
    "* 对$a$求导过程\n",
    "\n",
    "$\\cfrac{\\partial J(a,b)} {\\partial a} = 2\\sum_{i=1}^m (y^{(i)} - ax^{(i)} － b)(-x^{(i)})　＝　０$\n",
    "\n",
    "<br>$\\sum_{i=1}^m (y^{(i)} - ax^{(i)} － b)(x^{(i)}) = 0$\n",
    "\n",
    "<br>$\\sum_{i=1}^m (y^{(i)} - ax^{(i)} － \\overline{y} + a\\overline{x})x^{(i)} = 0$\n",
    "\n",
    "<br>$\\sum_{i=1}^m (y^{(i)}x^{(i)} - a(x^{(i)})^2 － \\overline{y}x^{(i)} + a\\overline{x}x^{(i)}) = 0$\n",
    "\n",
    "<br>$\\sum_{i=1}^m (y^{(i)}x^{(i)} － \\overline{y}x^{(i)})- \\sum_{i=1}^m (a(x^{(i)})^2  - a\\overline{x}x^{(i)}) = 0$\n",
    "\n",
    "<br>$a\\sum_{i=1}^m ((x^{(i)})^2  - \\overline{x}x^{(i)}) = \\sum_{i=1}^m (y^{(i)}x^{(i)} － \\overline{y}x^{(i)})$\n",
    "\n",
    "<br>$a =\\cfrac{\\sum_{i=1}^m(x^{(i)}y^{(i)} － x^{(i)}\\overline{y})}{\\sum_{i=1}^m((x^{(i)})^2  - \\overline{x}x^{(i)})}$\n"
   ]
  },
  {
   "cell_type": "markdown",
   "metadata": {},
   "source": [
    "又因为\n",
    "<br>$\\sum_{i=1}^mx^{(i)}\\overline{y} = \\overline{y}(m\\cfrac{1}{m}\\sum_{i=1}^mx^{(i)}) = m\\overline{x}\\overline{y} = \\sum_{i=1}^m\\overline{x}y^{(i)}$\n",
    "\n",
    "$m\\overline{x}\\overline{y} = \\sum_{i=1}^m\\overline{x}\\overline{y}$\n",
    "\n",
    "$\\sum_{i=1}^m\\overline{x}y^{(i)} = \\sum_{i=1}^m\\overline{x}\\overline{y}$"
   ]
  },
  {
   "cell_type": "markdown",
   "metadata": {},
   "source": [
    "所以可得\n",
    "<br>$a =\\cfrac{\\sum_{i=1}^m(x^{(i)}y^{(i)}-x^{(i)}\\overline{y}-\\overline{x}y^{(i)}+\\overline{x}\\overline{y})}{\\sum_{i=1}^m((x^{(i)})^2-\\overline{x}x^{(i)}-x^{(i)}\\overline{x}+\n",
    "\\overline{x}^2)}$\n",
    "\n",
    "<br>$a =\\cfrac{\\sum_{i=1}^m(x^{(i)}-\\overline{x})(y^{(i)}-\\overline{y})}{\\sum_{i=1}^m(x^{(i)}-\\overline{x})^2}$"
   ]
  },
  {
   "cell_type": "markdown",
   "metadata": {},
   "source": [
    "<font size=3 face=\"黑体加粗\">4) 实现简单线性回归</font>"
   ]
  },
  {
   "cell_type": "code",
   "execution_count": 1,
   "metadata": {},
   "outputs": [],
   "source": [
    "import numpy as np\n",
    "import matplotlib.pyplot as plt"
   ]
  },
  {
   "cell_type": "code",
   "execution_count": 2,
   "metadata": {},
   "outputs": [
    {
     "data": {
      "image/png": "[encoded data removed]",
      "text/plain": [
       "<matplotlib.figure.Figure at 0x7ff5e39f54a8>"
      ]
     },
     "metadata": {},
     "output_type": "display_data"
    }
   ],
   "source": [
    "# 自己生成的数据\n",
    "x = np.array([1.0,2.0,3.0,4.0,5.0])\n",
    "y = np.array([1.0,3.0,2.0,3.0,5.0])\n",
    "plt.scatter(x,y)\n",
    "plt.axis([0,6,0,6])\n",
    "plt.show()"
   ]
  },
  {
   "cell_type": "code",
   "execution_count": 3,
   "metadata": {},
   "outputs": [
    {
     "data": {
      "image/png": "[encoded data removed]",
      "text/plain": [
       "<matplotlib.figure.Figure at 0x7ff5e3972198>"
      ]
     },
     "metadata": {},
     "output_type": "display_data"
    }
   ],
   "source": [
    "# 实现简单线性回归计算过程\n",
    "x_mean = np.mean(x)\n",
    "y_mean = np.mean(y)\n",
    "\n",
    "num = 0.0\n",
    "d = 0.0\n",
    "for x_i,y_i in zip(x,y):\n",
    "    num += (x_i - x_mean) * (y_i - y_mean)\n",
    "    d += (x_i - x_mean)**2\n",
    "    \n",
    "a = num/d\n",
    "b = y_mean - a * x_mean\n",
    "\n",
    "# 绘制回归线\n",
    "y_hat = a * x + b\n",
    "plt.scatter(x, y)\n",
    "plt.plot(x, y_hat, color = \"r\")\n",
    "plt.axis([0,6,0,6])\n",
    "plt.show()"
   ]
  },
  {
   "cell_type": "code",
   "execution_count": 4,
   "metadata": {},
   "outputs": [
    {
     "name": "stdout",
     "output_type": "stream",
     "text": [
      "1.6\n"
     ]
    }
   ],
   "source": [
    "# 新数据预测\n",
    "x_predict = 1.5\n",
    "y_predict = a * x_predict + b\n",
    "print(y_predict)"
   ]
  },
  {
   "cell_type": "markdown",
   "metadata": {},
   "source": [
    "使用自己封装的简单线性回归模块实现简单线性回归计算\n",
    "\n",
    "必须使用sys.path.append(path)函数导入自定义模块所在的目录,然后再导入自定义模块。"
   ]
  },
  {
   "cell_type": "markdown",
   "metadata": {},
   "source": [
    "自定义模块如下："
   ]
  },
  {
   "cell_type": "code",
   "execution_count": 5,
   "metadata": {},
   "outputs": [],
   "source": [
    "# lr_module.py\n",
    "\n",
    "import numpy as np\n",
    "\n",
    "# 非向量化\n",
    "class SimpleLinearRegression1:\n",
    "    def __init__(self):\n",
    "        ''' 初始化SimpleLinearRegression模型'''\n",
    "        self.a_ = None\n",
    "        self.b_ = None\n",
    "\n",
    "    \n",
    "    def fit(self, x_train, y_train):\n",
    "        '''根据训练数据x_train, y_train训练SimpleLinearRegression模型'''\n",
    "\n",
    "        assert x_train.ndim == 1, \"Simple linear regression can only solve simple feature training data.\"\n",
    "        assert len(x_train) == len(y_train), \"The size of x_train must be equal to the size of y_train.\"\n",
    "\n",
    "        x_mean = np.mean(x_train)\n",
    "        y_mean = np.mean(y_train)\n",
    "\n",
    "        num = 0\n",
    "        d = 0\n",
    "        for x,y in zip(x_train, y_train):\n",
    "            num += (x - x_mean) * (y - y_mean)\n",
    "            d += (x - x_mean)**2\n",
    "\n",
    "        self.a_ = num/d\n",
    "        self.b_ = y_mean - self.a_* x_mean\n",
    "\n",
    "        return self\n",
    "    \n",
    "    def predict(self, x_predict):\n",
    "        ''' 给定待预测数据x_predict，返回表示x_predict的预测结果向量'''\n",
    "\n",
    "        assert x_predict.ndim == 1, \"Simple linear regression can only solve simple feature training data.\"\n",
    "        assert self.a_ is not None and self.b_ is not None, \"Must fit before predict!\"\n",
    "\n",
    "        return ([self._predict(x) for x in x_predict])\n",
    "\n",
    "    def _predict(self, x_single):\n",
    "        ''' 给定单个待预测数据x_predict，返回对应x的预测结果值'''\n",
    "\n",
    "        return self.a_ * x_single + self.b_\n",
    "\n",
    "    def __repr__(self):\n",
    "        return \"SimpleLinearRegression1\"\n",
    "\n",
    "\n",
    "# 向量化\n",
    "class SimpleLinearRegression2:\n",
    "    def __init__(self):\n",
    "        ''' 初始化SimpleLinearRegression模型'''\n",
    "        self.a_ = None\n",
    "        self.b_ = None\n",
    "\n",
    "    \n",
    "    def fit(self, x_train, y_train):\n",
    "        '''根据训练数据x_train, y_train训练SimpleLinearRegression模型'''\n",
    "\n",
    "        assert x_train.ndim == 1, \"Simple linear regression can only solve simple feature training data.\"\n",
    "        assert len(x_train) == len(y_train), \"The size of x_train must be equal to the size of y_train.\"\n",
    "\n",
    "        x_mean = np.mean(x_train)\n",
    "        y_mean = np.mean(y_train)\n",
    "\n",
    "        num = (x_train - x_mean).dot(y_train - y_mean)\n",
    "        d = (x_train - x_mean).dot(x_train - x_mean)\n",
    "\n",
    "        self.a_ = num/d\n",
    "        self.b_ = y_mean - self.a_* x_mean\n",
    "\n",
    "        return self\n",
    "    \n",
    "    def predict(self, x_predict):\n",
    "        ''' 给定待预测数据x_predict，返回表示x_predict的预测结果向量'''\n",
    "\n",
    "        assert x_predict.ndim == 1, \"Simple linear regression can only solve simple feature training data.\"\n",
    "        assert self.a_ is not None and self.b_ is not None, \"Must fit before predict!\"\n",
    "\n",
    "        return ([self._predict(x) for x in x_predict])\n",
    "\n",
    "    def _predict(self, x_single):\n",
    "        ''' 给定单个待预测数据x_predict，返回对应x的预测结果值'''\n",
    "\n",
    "        return self.a_ * x_single + self.b_\n",
    "\n",
    "    def __repr__(self):\n",
    "        return \"SimpleLinearRegression2\""
   ]
  },
  {
   "cell_type": "code",
   "execution_count": 6,
   "metadata": {},
   "outputs": [],
   "source": [
    "# 导入自定义模块\n",
    "import sys\n",
    "import numpy as np\n",
    "import matplotlib.pyplot as plt\n",
    "sys.path.append('/home/liwangpei2/GitHub/DeepLearning/LinearRegreesion/')\n",
    "from lr_module import SimpleLinearRegression1 \n",
    "from lr_module import SimpleLinearRegression2"
   ]
  },
  {
   "cell_type": "markdown",
   "metadata": {},
   "source": [
    "* 非向量化"
   ]
  },
  {
   "cell_type": "code",
   "execution_count": 7,
   "metadata": {},
   "outputs": [
    {
     "data": {
      "image/png": "[encoded data removed]",
      "text/plain": [
       "<matplotlib.figure.Figure at 0x7ff5e19431d0>"
      ]
     },
     "metadata": {},
     "output_type": "display_data"
    }
   ],
   "source": [
    "simpleLR1 = SimpleLinearRegression1()\n",
    "simpleLR1.fit(x,y)\n",
    "\n",
    "# 绘制回归线\n",
    "y_hat = simpleLR1.a_ * x + simpleLR1.b_\n",
    "plt.scatter(x, y)\n",
    "plt.plot(x, y_hat, color = \"r\")\n",
    "plt.axis([0,6,0,6])\n",
    "plt.show()"
   ]
  },
  {
   "cell_type": "code",
   "execution_count": 8,
   "metadata": {},
   "outputs": [
    {
     "name": "stdout",
     "output_type": "stream",
     "text": [
      "[1.5999999999999996]\n"
     ]
    }
   ],
   "source": [
    "# 新数据预测\n",
    "y_predict = simpleLR1.predict(np.array([x_predict]))\n",
    "print(y_predict)"
   ]
  },
  {
   "cell_type": "markdown",
   "metadata": {},
   "source": [
    "* 向量化"
   ]
  },
  {
   "cell_type": "code",
   "execution_count": 9,
   "metadata": {},
   "outputs": [
    {
     "data": {
      "image/png": "[encoded data removed]",
      "text/plain": [
       "<matplotlib.figure.Figure at 0x7ff5e18c52b0>"
      ]
     },
     "metadata": {},
     "output_type": "display_data"
    }
   ],
   "source": [
    "simpleLR2 = SimpleLinearRegression2()\n",
    "simpleLR2.fit(x,y)\n",
    "\n",
    "# 绘制回归线\n",
    "y_hat = simpleLR2.a_ * x + simpleLR2.b_\n",
    "plt.scatter(x, y)\n",
    "plt.plot(x, y_hat, color = \"r\")\n",
    "plt.axis([0,6,0,6])\n",
    "plt.show()"
   ]
  },
  {
   "cell_type": "code",
   "execution_count": 10,
   "metadata": {},
   "outputs": [
    {
     "name": "stdout",
     "output_type": "stream",
     "text": [
      "[1.5999999999999996]\n"
     ]
    }
   ],
   "source": [
    "# 新数据预测\n",
    "y_predict = simpleLR2.predict(np.array([x_predict]))\n",
    "print(y_predict)"
   ]
  },
  {
   "cell_type": "markdown",
   "metadata": {},
   "source": [
    "* 非向量化和向量化的性能比较"
   ]
  },
  {
   "cell_type": "code",
   "execution_count": 11,
   "metadata": {},
   "outputs": [
    {
     "data": {
      "image/png": "[encoded data removed]",
      "text/plain": [
       "<matplotlib.figure.Figure at 0x7ff5e18bd470>"
      ]
     },
     "metadata": {},
     "output_type": "display_data"
    }
   ],
   "source": [
    "# 随机产生data_size具有一定线性关系的数据\n",
    "data_size = 1000000\n",
    "big_x = np.random.random(size = data_size)\n",
    "big_y = 2.0 * big_x + 3.0 + np.random.normal(size = data_size)\n",
    "\n",
    "plt.scatter(big_x, big_y)\n",
    "plt.show()"
   ]
  },
  {
   "cell_type": "code",
   "execution_count": 12,
   "metadata": {},
   "outputs": [
    {
     "name": "stdout",
     "output_type": "stream",
     "text": [
      "563 ms ± 10.5 ms per loop (mean ± std. dev. of 7 runs, 1 loop each)\n",
      "18.9 ms ± 728 µs per loop (mean ± std. dev. of 7 runs, 100 loops each)\n"
     ]
    }
   ],
   "source": [
    "%timeit simpleLR1.fit(big_x, big_y)\n",
    "%timeit simpleLR2.fit(big_x, big_y)"
   ]
  },
  {
   "cell_type": "markdown",
   "metadata": {},
   "source": [
    "可以看出向量化的算法比非向量化算法性能提高了很多，近30倍。"
   ]
  },
  {
   "cell_type": "code",
   "execution_count": 13,
   "metadata": {},
   "outputs": [
    {
     "name": "stdout",
     "output_type": "stream",
     "text": [
      "2.00112999745\n",
      "2.99866115482\n"
     ]
    }
   ],
   "source": [
    "print(simpleLR1.a_)\n",
    "print(simpleLR1.b_)"
   ]
  },
  {
   "cell_type": "code",
   "execution_count": 14,
   "metadata": {},
   "outputs": [
    {
     "name": "stdout",
     "output_type": "stream",
     "text": [
      "2.00112999745\n",
      "2.99866115482\n"
     ]
    }
   ],
   "source": [
    "print(simpleLR2.a_)\n",
    "print(simpleLR2.b_)"
   ]
  },
  {
   "cell_type": "code",
   "execution_count": 15,
   "metadata": {},
   "outputs": [
    {
     "data": {
      "image/png": "[encoded data removed]",
      "text/plain": [
       "<matplotlib.figure.Figure at 0x7ff5e17f6278>"
      ]
     },
     "metadata": {},
     "output_type": "display_data"
    }
   ],
   "source": [
    "# 绘制回归线\n",
    "big_y_hat = simpleLR2.a_ * big_x + simpleLR2.b_\n",
    "plt.scatter(big_x, big_y)\n",
    "plt.plot(big_x, big_y_hat, color = \"r\")\n",
    "plt.show()"
   ]
  },
  {
   "cell_type": "markdown",
   "metadata": {},
   "source": [
    "###  2、线性回归评价指标"
   ]
  },
  {
   "cell_type": "markdown",
   "metadata": {},
   "source": [
    "线性回归目标是：找到$a$和$b$，使得$\\sum_{i=1}^m (y^{(i)} - ax^{(i)} － b)^2$尽可能的小。\n",
    "\n",
    "在训练过程中，其实是对训练集（ｔｒａｉｎ数据）而言使得损失函数尽可能的小，也即使得$\\sum_{i=1}^m (y^{(i)}_{train} - ax^{(i)}_{train} － b)^2$尽可能小.\n",
    "\n",
    "又因为:　$\\hat y^{(i)}_{train}　＝　ax^{(i)}_{train} + b$\n",
    "\n",
    "所以，线性回归目标是：找到$a$和$b$，使得$\\sum_{i=1}^m (y^{(i)}_{train} - \\hat y^{(i)}_{train})^2$尽可能的小。\n",
    "\n",
    "要评价一个模型的好坏，则需要使用测试集（ｔｅｓｔ数据）进行模型测试，那么评价指标是啥呢？"
   ]
  },
  {
   "cell_type": "markdown",
   "metadata": {},
   "source": [
    "回归算法的评价指标有：MSE，RMSE，MAE、R-Squared。"
   ]
  },
  {
   "cell_type": "markdown",
   "metadata": {},
   "source": [
    "<font size=3 face=\"黑体加粗\">1） 均方误差（MSE）</font>"
   ]
  },
  {
   "cell_type": "markdown",
   "metadata": {},
   "source": [
    "MSE （Mean Squared Error）叫做均方误差。\n",
    "\n",
    "使用ｔｅｓｔ数据测试模型，则有：$\\hat y^{(i)}_{test}　＝　ax^{(i)}_{test} + b$\n",
    "\n",
    "衡量标准：$\\sum_{i=1}^m (y^{(i)}_{test} - \\hat y^{(i)}_{test})^2$\n",
    "\n",
    "问题：以上评价标准跟测试样本大小（m）有关系，为了消除测试样本的影响，取均值，即：\n",
    "$\\cfrac{1}{m}\\sum_{i=1}^m (y^{(i)}_{test} - \\hat y^{(i)}_{train})^2$\n",
    "\n",
    "上述评价指标就叫做均方误差，即：\n",
    "$ＭＳＥ　＝　\\cfrac{1}{m}\\sum_{i=1}^m (y^{(i)}_{test} - \\hat y^{(i)}_{test})^2$"
   ]
  },
  {
   "cell_type": "markdown",
   "metadata": {},
   "source": [
    "<font size=3 face=\"黑体加粗\">２） 均方根误差（RMSE）</font>"
   ]
  },
  {
   "cell_type": "markdown",
   "metadata": {},
   "source": [
    "RMSE(Root Mean Squared Error)叫做均方根误差"
   ]
  },
  {
   "cell_type": "markdown",
   "metadata": {},
   "source": [
    "由于ＭＳＥ存在量纲上的问题，例如数据量纲是“万元”，则ＭＳＥ的量纲是“$万元^2$”。\n",
    "为了消除量纲的影响，则对ＭＳＥ开平方，这就叫做均方根误差，即："
   ]
  },
  {
   "cell_type": "markdown",
   "metadata": {},
   "source": [
    "$RMSE　＝\\sqrt{\\cfrac{1}{m}\\sum_{i=1}^m (y^{(i)}_{test} - \\hat y^{(i)}_{test})^2}$"
   ]
  },
  {
   "cell_type": "markdown",
   "metadata": {},
   "source": [
    "<font size=3 face=\"黑体加粗\">3） 平均绝对值误差（MAE）</font>"
   ]
  },
  {
   "cell_type": "markdown",
   "metadata": {},
   "source": [
    "MAE(Mean Absolute Error)叫做平均绝对误差"
   ]
  },
  {
   "cell_type": "markdown",
   "metadata": {},
   "source": [
    "$MAE　＝　\\cfrac{1}{m}\\begin{vmatrix}\n",
    "y^{(i)}_{test} - \\hat y^{(i)}_{test}\n",
    "\\end{vmatrix}$"
   ]
  },
  {
   "cell_type": "markdown",
   "metadata": {},
   "source": [
    "<font size=3 face=\"黑体加粗\">4） $R^2$（R-Squared）</font>数据"
   ]
  },
  {
   "cell_type": "markdown",
   "metadata": {},
   "source": [
    "对于$MSE　＝　\\cfrac{1}{m}\\sum_{i=1}^m (y^{(i)}_{test} - \\hat y^{(i)}_{test})^2$ 和 $RMSE　＝\\sqrt{\\cfrac{1}{m}\\sum_{i=1}^m (y^{(i)}_{test} - \\hat y^{(i)}_{test})^2}$\n",
    "\n",
    "问题：分类的准确度：1-最好，0-最差\n",
    "<br>因为MSE和RMSE是不具备[0,1]之间的，因此他们只能局限于一种数据的评价，而不能同时用于例如“房价”和“学生成绩”的评价。\n",
    "<br>因此引入新的评价指标，$R^2$。"
   ]
  },
  {
   "cell_type": "markdown",
   "metadata": {},
   "source": [
    "$R^2 = 1 - \\cfrac{SS_{residual}}{SS_{total}}$\n",
    "\n",
    "(Residual Sum of Squares)\n",
    "<br>(Total Sum of Squares)\n",
    "\n",
    "$R^2 = 1 - \\cfrac{\\sum_{i=1}^m(\\hat y^{(i)} - y^{(i)})^2}{\\sum_{i=1}^m(\\overline{y} - y^{(i)})^2}$\n",
    "\n",
    "$R^2$意义：\n",
    "\n",
    "分子$\\sum_{i=1}^m(\\hat y^{(i)} - y^{(i)})^2$表示使用我们训练的模型预测产生的错误(会产生误差)。\n",
    "\n",
    "分母$\\sum_{i=1}^m(\\overline{y} - y^{(i)})^2$表示使用基准模型$y = \\overline{y}$（Baseline Model，会产生很大的误差）预测产生的模型。\n",
    "\n",
    "* $R^2 <= 1$\n",
    "\n",
    "* $R^2$越大越好，当我们的预测模型不犯任何错误时，$R^2$得到最大值1。\n",
    "\n",
    "* 当我们的模型等于基准模型时，$R^2 = 0$。\n",
    "\n",
    "* 如果$R^2 < 0$，说明我们的模型还不如基准模型。此时，很有可能我们的数据不存在任何线性关系。\n",
    "\n",
    "由此看来，$R^2$指标优势在于讲回归问题归一到$[0,1]$之间，并且1-最好，0-最差。可以用$R^2$指标来衡量同一个回归模型应用到不同的问题（不同的数据）评价上。"
   ]
  },
  {
   "cell_type": "markdown",
   "metadata": {},
   "source": [
    "$R^2$变形：\n",
    "\n",
    "$R^2 = 1 - \\cfrac{\\cfrac{1}{m}\\sum_{i=1}^m(\\hat y^{(i)} - y^{(i)})^2}{\\cfrac{1}{m}\\sum_{i=1}^m(\\overline{y} - y^{(i)})^2} = 1 - \\cfrac{MSE(\\hat y^{(i)},y^{(i)})}{Var(y)}$ \n",
    "\n",
    "方差：$Var(y) = \\cfrac{1}{m}\\sum_{i=1}^m(\\overline{y} - y^{(i)})^2$"
   ]
  }
 ],
 "metadata": {
  "kernelspec": {
   "display_name": "Python 3",
   "language": "python",
   "name": "python3"
  },
  "language_info": {
   "codemirror_mode": {
    "name": "ipython",
    "version": 3
   },
   "file_extension": ".py",
   "mimetype": "text/x-python",
   "name": "python",
   "nbconvert_exporter": "python",
   "pygments_lexer": "ipython3",
   "version": "3.6.4"
  }
 },
 "nbformat": 4,
 "nbformat_minor": 2
}
