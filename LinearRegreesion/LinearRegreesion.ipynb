{
 "cells": [
  {
   "cell_type": "markdown",
   "metadata": {},
   "source": [
    "###  线性回归"
   ]
  },
  {
   "cell_type": "markdown",
   "metadata": {},
   "source": [
    "###  １、简单线性回归"
   ]
  },
  {
   "cell_type": "markdown",
   "metadata": {},
   "source": [
    "建设我们找到了最佳拟合的直线方程：\n",
    "<br>　　　　$y = ax + b$\n",
    "\n",
    "那么对于每一个样本点$x^{(i)}$，根据我们的直线方程，预测值为：\n",
    "<br>　　　　$\\hat{y}^{(i)} = ax^{(i)} + b$\n",
    "\n",
    "对于每一个样本点$x^{(i)}$，其真值为:\n",
    "<br>　　　　$y^{(i)}$"
   ]
  },
  {
   "cell_type": "markdown",
   "metadata": {},
   "source": [
    "１） 预测误差\n",
    "<br>我们希望$y^{(i)}$和$\\hat{y}^{(i)}$的差距尽量小，误差表达为：\n",
    "<br>　　　　$(y^{(i)} - \\hat{y}^{(i)})^2$ \n",
    "\n",
    "考虑所有的样本，则误差为：\n",
    "<br>　　　　$\\sum_{i=1}^m (y^{(i)} - \\hat{y}^{(i)})^2$"
   ]
  },
  {
   "cell_type": "markdown",
   "metadata": {},
   "source": [
    "２）目标函数\n",
    "<br>线性回归的目标：使得$\\sum_{i=1}^m (y^{(i)} - \\hat{y}^{(i)})^2$尽可能的小。\n",
    "\n",
    "将$\\hat{y}^{(i)} = ax^{(i)} + b$带入$\\sum_{i=1}^m (y^{(i)} - \\hat{y}^{(i)})^2$，可得：\n",
    "<br>　　　　$\\sum_{i=1}^m (y^{(i)} - ax^{(i)} － b)^2$\n",
    "\n",
    "因此，线性回归目标变成：找到$a$和$b$，使得$\\sum_{i=1}^m (y^{(i)} - ax^{(i)} － b)^2$尽可能的小。\n",
    "\n",
    "备注：\n",
    "<br>①　目标中，只有$a$和$b$是未知数，$x^{(i)}$和$y^{(i)}$是已知的。\n",
    "<br>②　损失函数（loss function）：$\\sum_{i=1}^m (y^{(i)} - ax^{(i)} － b)^2$\n",
    "<br>③　一类机器学习算法（参数学习算法）的基本思路是：\n",
    "<br>　　　　通过分析问题，确定问题的损失函数；\n",
    "<br>　　　　通过最优化损失函数，获得机器学习的模型。"
   ]
  },
  {
   "cell_type": "markdown",
   "metadata": {},
   "source": [
    "３）最小二乘法\n",
    "<br>典型最小二乘法问题：最小化误差的平方\n",
    "\n",
    "最小二乘法结果为：\n",
    "<br>　　　　$a = \\cfrac{\\sum_{i=1}^m (x^{(i)} - \\overline{x})(y^{(i)} - \\overline{y})}{\\sum_{i=1}^m (x^{(i)} - \\overline{x})^2}$    　　　$b = \\overline{y} - a\\overline{x}$\n",
    "<br> 　　"
   ]
  }
 ],
 "metadata": {
  "kernelspec": {
   "display_name": "Python 3",
   "language": "python",
   "name": "python3"
  },
  "language_info": {
   "codemirror_mode": {
    "name": "ipython",
    "version": 3
   },
   "file_extension": ".py",
   "mimetype": "text/x-python",
   "name": "python",
   "nbconvert_exporter": "python",
   "pygments_lexer": "ipython3",
   "version": "3.7.1"
  }
 },
 "nbformat": 4,
 "nbformat_minor": 2
}
