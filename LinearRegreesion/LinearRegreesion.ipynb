{
 "cells": [
  {
   "cell_type": "markdown",
   "metadata": {},
   "source": [
    "###  线性回归"
   ]
  },
  {
   "cell_type": "markdown",
   "metadata": {},
   "source": [
    "###  １、简单线性回归"
   ]
  },
  {
   "cell_type": "markdown",
   "metadata": {},
   "source": [
    "建设我们找到了最佳拟合的直线方程：\n",
    "<br>　　　　$y = ax + b$\n",
    "\n",
    "那么对于每一个样本点$x^{(i)}$，根据我们的直线方程，预测值为：\n",
    "<br>　　　　$\\hat{y}^{(i)} = ax^{(i)} + b$\n",
    "\n",
    "对于每一个样本点$x^{(i)}$，其真值为:\n",
    "<br>　　　　$y^{(i)}$"
   ]
  },
  {
   "cell_type": "markdown",
   "metadata": {},
   "source": [
    "１） 预测误差\n",
    "<br>我们希望$y^{(i)}$和$\\hat{y}^{(i)}$的差距尽量小，误差表达为：\n",
    "<br>　　　　$(y^{(i)} - \\hat{y}^{(i)})^2$ \n",
    "\n",
    "考虑所有的样本，则误差为：\n",
    "<br>　　　　$\\sum_{i=1}^m (y^{(i)} - \\hat{y}^{(i)})^2$"
   ]
  },
  {
   "cell_type": "markdown",
   "metadata": {},
   "source": [
    "２）目标函数\n",
    "<br>线性回归的目标：使得$\\sum_{i=1}^m (y^{(i)} - \\hat{y}^{(i)})^2$尽可能的小。\n",
    "\n",
    "将$\\hat{y}^{(i)} = ax^{(i)} + b$带入$\\sum_{i=1}^m (y^{(i)} - \\hat{y}^{(i)})^2$，可得：\n",
    "<br>　　　　$\\sum_{i=1}^m (y^{(i)} - ax^{(i)} － b)^2$\n",
    "\n",
    "因此，线性回归目标变成：找到$a$和$b$，使得$\\sum_{i=1}^m (y^{(i)} - ax^{(i)} － b)^2$尽可能的小。\n",
    "\n",
    "备注：\n",
    "<br>①　目标中，只有$a$和$b$是未知数，$x^{(i)}$和$y^{(i)}$是已知的。\n",
    "<br>②　损失函数（loss function）：$\\sum_{i=1}^m (y^{(i)} - ax^{(i)} － b)^2$\n",
    "<br>③　一类机器学习算法（参数学习算法）的基本思路是：\n",
    "<br>　　　　通过分析问题，确定问题的损失函数；\n",
    "<br>　　　　通过最优化损失函数，获得机器学习的模型。"
   ]
  },
  {
   "cell_type": "markdown",
   "metadata": {},
   "source": [
    "３）最小二乘法\n",
    "<br>典型最小二乘法问题：最小化误差的平方\n",
    "\n",
    "最小二乘法结果为：\n",
    "<br>　　　　$a = \\cfrac{\\sum_{i=1}^m (x^{(i)} - \\overline{x})(y^{(i)} - \\overline{y})}{\\sum_{i=1}^m (x^{(i)} - \\overline{x})^2}$    　　　$b = \\overline{y} - a\\overline{x}$\n",
    "<br> 　　"
   ]
  },
  {
   "cell_type": "markdown",
   "metadata": {},
   "source": [
    "最小二乘法数学推算过程：\n",
    "\n",
    "\n",
    "对损失函数$J(a,b) = \\sum_{i=1}^m (y^{(i)} - ax^{(i)} － b)^2$分别关于$a$、$b$求导，并令其倒数等于０，可得：\n"
   ]
  },
  {
   "cell_type": "markdown",
   "metadata": {},
   "source": [
    "* 对$b$求导过程\n",
    "\n",
    "$\\cfrac{\\partial J(a,b)} {\\partial b} = -2\\sum_{i=1}^m (y^{(i)} - ax^{(i)} － b)　＝　０$\n",
    "\n",
    "<br>$\\sum_{i=1}^m (y^{(i)} - ax^{(i)} － b)　＝　０$\n",
    "\n",
    "<br>$\\sum_{i=1}^m (y^{(i)} - ax^{(i)}) － \\sum_{i=1}^m(b)　＝　０$\n",
    "\n",
    "<br>$\\sum_{i=1}^m (y^{(i)} - ax^{(i)}) － mb　＝　０$\n",
    "\n",
    "<br>$ mb　＝　\\sum_{i=1}^m (y^{(i)} - ax^{(i)})$\n",
    "\n",
    "<br>$ b　＝　\\cfrac{1}{m}{\\sum_{i=1}^m (y^{(i)} - ax^{(i)})}$\n",
    "\n",
    "<br>$ b　＝　\\overline{y} - a\\overline{x}$"
   ]
  },
  {
   "cell_type": "markdown",
   "metadata": {},
   "source": [
    "* 对$a$求导过程\n",
    "\n",
    "$\\cfrac{\\partial J(a,b)} {\\partial a} = 2\\sum_{i=1}^m (y^{(i)} - ax^{(i)} － b)(-x^{(i)})　＝　０$\n",
    "\n",
    "<br>$\\sum_{i=1}^m (y^{(i)} - ax^{(i)} － b)(x^{(i)}) = 0$\n",
    "\n",
    "<br>$\\sum_{i=1}^m (y^{(i)} - ax^{(i)} － \\overline{y} + a\\overline{x})x^{(i)} = 0$\n",
    "\n",
    "<br>$\\sum_{i=1}^m (y^{(i)}x^{(i)} - a(x^{(i)})^2 － \\overline{y}x^{(i)} + a\\overline{x}x^{(i)}) = 0$\n",
    "\n",
    "<br>$\\sum_{i=1}^m (y^{(i)}x^{(i)} － \\overline{y}x^{(i)})- \\sum_{i=1}^m (a(x^{(i)})^2  - a\\overline{x}x^{(i)}) = 0$\n",
    "\n",
    "<br>$a\\sum_{i=1}^m ((x^{(i)})^2  - \\overline{x}x^{(i)}) = \\sum_{i=1}^m (y^{(i)}x^{(i)} － \\overline{y}x^{(i)})$\n",
    "\n",
    "<br>$a =\\cfrac{\\sum_{i=1}^m(x^{(i)}y^{(i)} － x^{(i)}\\overline{y})}{\\sum_{i=1}^m((x^{(i)})^2  - \\overline{x}x^{(i)})}$\n"
   ]
  },
  {
   "cell_type": "markdown",
   "metadata": {},
   "source": [
    "又因为\n",
    "<br>$\\sum_{i=1}^mx^{(i)}\\overline{y} = \\overline{y}(m\\cfrac{1}{m}\\sum_{i=1}^mx^{(i)}) = m\\overline{x}\\overline{y} = \\sum_{i=1}^m\\overline{x}y^{(i)}$\n",
    "\n",
    "$m\\overline{x}\\overline{y} = \\sum_{i=1}^m\\overline{x}\\overline{y}$\n",
    "\n",
    "$\\sum_{i=1}^m\\overline{x}y^{(i)} = \\sum_{i=1}^m\\overline{x}\\overline{y}$"
   ]
  },
  {
   "cell_type": "markdown",
   "metadata": {},
   "source": [
    "所以可得\n",
    "<br>$a =\\cfrac{\\sum_{i=1}^m(x^{(i)}y^{(i)}-x^{(i)}\\overline{y}-\\overline{x}y^{(i)}+\\overline{x}\\overline{y})}{\\sum_{i=1}^m((x^{(i)})^2-\\overline{x}x^{(i)}-x^{(i)}\\overline{x}+\n",
    "\\overline{x}^2)}$\n",
    "\n",
    "<br>$a =\\cfrac{\\sum_{i=1}^m(x^{(i)}-\\overline{x})(y^{(i)}-\\overline{y})}{\\sum_{i=1}^m(x^{(i)}-\\overline{x})^2}$"
   ]
  },
  {
   "cell_type": "markdown",
   "metadata": {},
   "source": [
    "4)实现简单线性回归"
   ]
  },
  {
   "cell_type": "code",
   "execution_count": 1,
   "metadata": {},
   "outputs": [
    {
     "data": {
      "text/plain": [
       "<Figure size 640x480 with 1 Axes>"
      ]
     },
     "metadata": {},
     "output_type": "display_data"
    }
   ],
   "source": [
    "# 自己制作的数据\n",
    "import numpy as np\n",
    "import matplotlib.pyplot as plt\n",
    "x = np.array([1.0,2.0,3.0,4.0,5.0])\n",
    "y = np.array([1.0,3.0,2.0,3.0,5.0])\n",
    "plt.scatter(x,y)\n",
    "plt.axis([0,6,0,6])\n",
    "plt.show()"
   ]
  },
  {
   "cell_type": "code",
   "execution_count": 2,
   "metadata": {},
   "outputs": [
    {
     "data": {
      "image/png": "[encoded data removed]",
      "text/plain": [
       "<Figure size 432x288 with 1 Axes>"
      ]
     },
     "metadata": {
      "needs_background": "light"
     },
     "output_type": "display_data"
    }
   ],
   "source": [
    "# 实现简单线性回归计算过程\n",
    "x_mean = np.mean(x)\n",
    "y_mean = np.mean(y)\n",
    "\n",
    "num = 0.0\n",
    "d = 0.0\n",
    "for x_i,y_i in zip(x,y):\n",
    "    num += (x_i - x_mean) * (y_i - y_mean)\n",
    "    d += (x_i - x_mean)**2\n",
    "    \n",
    "a = num/d\n",
    "b = y_mean - a * x_mean\n",
    "\n",
    "# 绘制回归线\n",
    "y_hat = a * x + b\n",
    "plt.scatter(x, y)\n",
    "plt.plot(x, y_hat, color = \"r\")\n",
    "plt.axis([0,6,0,6])\n",
    "plt.show()"
   ]
  }
 ],
 "metadata": {
  "kernelspec": {
   "display_name": "Python 3",
   "language": "python",
   "name": "python3"
  },
  "language_info": {
   "codemirror_mode": {
    "name": "ipython",
    "version": 3
   },
   "file_extension": ".py",
   "mimetype": "text/x-python",
   "name": "python",
   "nbconvert_exporter": "python",
   "pygments_lexer": "ipython3",
   "version": "3.7.1"
  }
 },
 "nbformat": 4,
 "nbformat_minor": 2
}
