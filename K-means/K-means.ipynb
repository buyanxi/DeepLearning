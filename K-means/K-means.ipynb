{
 "cells": [
  {
   "cell_type": "markdown",
   "metadata": {},
   "source": [
    "### K-均值聚类算法"
   ]
  },
  {
   "cell_type": "markdown",
   "metadata": {},
   "source": [
    "### 1、K-均值（K-means）算法概述"
   ]
  },
  {
   "cell_type": "markdown",
   "metadata": {},
   "source": [
    "k-means算法是一种简单的迭代型聚类算法，属于无监督学习。"
   ]
  },
  {
   "cell_type": "markdown",
   "metadata": {},
   "source": [
    "算法思路：<br>\n",
    "在给定K值和K个初始类簇中心点的情况下，把每个点(亦即数据记录)分到离其最近的类簇中心点所代表的类簇中，所有点分配完毕之后，根据一个类簇内的所有点重新计算该类簇的中心点(取平均值)，然后再迭代的进行分配点和更新类簇中心点的步骤，直至类簇中心点的变化很小，或者达到指定的迭代次数。"
   ]
  },
  {
   "cell_type": "markdown",
   "metadata": {},
   "source": [
    "算法原理：<br>"
   ]
  },
  {
   "cell_type": "markdown",
   "metadata": {},
   "source": [
    "假设给定数据样本$X$，包含了$n$个对象$X = \\{X_{1}，X_{2}，\\cdots,X_{n}\\}$，其中每个对象都具有$m$个维度的属性。K-means算法的目标是将$n$个对象依据对象间的相似性聚集到指定的$k$个类簇中，每个对象属于且仅属于一个其到类簇中心距离最小的类簇中。对于K-means，首先需要初始化$k$个聚类中心$\\{C_{1}，C_{2}，\\cdots,C_{k}\\}$, $1 < K ≤ n$,然后通过计算每一个对象到每一个聚类中心的欧式距离，如下式所示\n",
    "\n",
    "$dis(X_{i},C_{j}) = \\sqrt{\\sum_{t=1}^{m} (X_{it} - C_{jt})^2}$"
   ]
  },
  {
   "cell_type": "markdown",
   "metadata": {},
   "source": [
    "上式中：<br>\n",
    "$X_i(1 \\leq i \\leq n )$表示第$i$个对象;<br>\n",
    "$C_j(1 \\leq j \\leq k )$表示第$j$个类簇中心;<br>\n",
    "$X_{it}(1 \\leq t \\leq m )$表示第$i$个对象的第$t$个属性;<br>\n",
    "$X_{jt}(1 \\leq t \\leq m )$表示第$j$个类簇中心的第$t$个属性。"
   ]
  },
  {
   "cell_type": "markdown",
   "metadata": {},
   "source": [
    "依次比较每一个对象到每一个类簇中心的距离，将对象分配到距离最近的聚类中心的类簇中，得到$k$个类簇，$\\{S_{1}，S_{2}，\\cdots,S_{k}\\}$。"
   ]
  },
  {
   "cell_type": "markdown",
   "metadata": {},
   "source": [
    "Kmeans算法用中心定义了类簇的原型，类簇中心就是类簇内所有对象在各个维度的均值，其计算公式如下\n",
    "\n",
    "$C_l = \\frac {\\sum_{X_{i\\in S_l}}X_i}{|S_l|}$"
   ]
  },
  {
   "cell_type": "markdown",
   "metadata": {},
   "source": [
    "上式中：<br>\n",
    "$C_l（1 \\leq l \\leq k）$表示第$l$个类簇的中心；<br>\n",
    "$S_l（1 \\leq l \\leq k）$表示第$l$个类簇中对象的个数；<br>\n",
    "$X_i（1 \\leq i \\leq S_l）$表示第$l$个类簇的第$i$个对象。"
   ]
  },
  {
   "cell_type": "markdown",
   "metadata": {},
   "source": [
    "### 2、K-means算法流程"
   ]
  },
  {
   "cell_type": "markdown",
   "metadata": {},
   "source": [
    "K-means是一个反复迭代的过程，算法分为四个步骤：<br>\n",
    "1） 选取数据空间中的K个对象作为初始中心，每个对象代表一个聚类中心；<br>\n",
    "2） 对于样本中的数据对象，根据它们与这些聚类中心的欧氏距离，按距离最近的准则将它们分到距离它们最近的聚类中心（最相似）所对应的类；<br>\n",
    "3） 更新聚类中心：将每个类别中所有对象所对应的均值作为该类别的聚类中心，计算目标函数的值；<br>\n",
    "4） 判断聚类中心和目标函数的值是否发生改变，若不变，则输出结果，若改变，则返回2）。"
   ]
  }
 ],
 "metadata": {
  "kernelspec": {
   "display_name": "Python 3",
   "language": "python",
   "name": "python3"
  },
  "language_info": {
   "codemirror_mode": {
    "name": "ipython",
    "version": 3
   },
   "file_extension": ".py",
   "mimetype": "text/x-python",
   "name": "python",
   "nbconvert_exporter": "python",
   "pygments_lexer": "ipython3",
   "version": "3.6.4"
  }
 },
 "nbformat": 4,
 "nbformat_minor": 2
}
