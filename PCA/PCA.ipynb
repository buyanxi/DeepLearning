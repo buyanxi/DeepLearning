{
 "cells": [
  {
   "cell_type": "markdown",
   "metadata": {},
   "source": [
    "### 主成分分析（PCA）"
   ]
  },
  {
   "cell_type": "markdown",
   "metadata": {},
   "source": [
    "PCA (Principal Component Analysis)\n",
    "* 一个非监督的机器学习算法\n",
    "* 主要用于数据降维，通过降维可以发现更加便于人类理解的特征\n",
    "* 其他应用，如可视化、去噪"
   ]
  },
  {
   "cell_type": "markdown",
   "metadata": {},
   "source": [
    "### 1、主成分分析原理"
   ]
  },
  {
   "cell_type": "markdown",
   "metadata": {},
   "source": [
    "图"
   ]
  },
  {
   "cell_type": "markdown",
   "metadata": {},
   "source": [
    "显然，选择特征1的降维方式比选择特征2的降维方式要好。选择特征1的降维后，特征的间隔更加稀疏，区分度更加明显。"
   ]
  },
  {
   "cell_type": "markdown",
   "metadata": {},
   "source": [
    "问题：有没有更加好的降维方式呢？"
   ]
  },
  {
   "cell_type": "markdown",
   "metadata": {},
   "source": [
    "图"
   ]
  },
  {
   "cell_type": "markdown",
   "metadata": {},
   "source": [
    "如上图所示，找到一个轴，让特征点映射到这个轴上之后，其间隔更加明显。\n",
    "<br>间隔最大，即数据的方差最大化。"
   ]
  },
  {
   "cell_type": "markdown",
   "metadata": {},
   "source": [
    "问题：如何寻找这样一条轴，使得样本间的所有点映射到这个轴上后方差最大？"
   ]
  },
  {
   "cell_type": "markdown",
   "metadata": {},
   "source": [
    "第一步：将样本的均值归零（demean）"
   ]
  },
  {
   "cell_type": "markdown",
   "metadata": {},
   "source": [
    "图"
   ]
  },
  {
   "cell_type": "markdown",
   "metadata": {},
   "source": [
    "demean：相当于将坐标轴进行了移动，使得样本在每一个特征维度上的均值为0，即$\\overline x = 0$\n",
    "<br>此时，有\n",
    "\n",
    "$Var(x) = \\frac {1}{m}\\sum_{i=1}^{m}(x_{i} - \\overline x)^2 = \\frac {1}{m}\\sum_{i=1}^{m}x_{i}^2$"
   ]
  },
  {
   "cell_type": "markdown",
   "metadata": {},
   "source": [
    "注：此时的$x_{i}$已经是映射到待定轴的特征坐标了。"
   ]
  },
  {
   "cell_type": "markdown",
   "metadata": {},
   "source": [
    "此时只有两个维度，所以定义待定轴的方向为$W = (w_1,w_2)$，则可得所有样本点映射到$w$之后，有：\n",
    "\n",
    "$Var(X_{project}) = \\frac {1}{m}\\sum_{i=1}^{m}(X_{project}^{(i)} - \\overline X_{project})^2$ $\\qquad$最大化"
   ]
  },
  {
   "cell_type": "markdown",
   "metadata": {},
   "source": [
    "因为$X_{project}^{(i)}$包含有多个特征，这里只有两个特征维度，所以$X_{project}^{(i)}$是一个行向量，所以有：\n",
    "\n",
    "$Var(X_{project}) = \\frac {1}{m}\\sum_{i=1}^{m}||X_{project}^{(i)} - \\overline X_{project}||^2 = \\frac {1}{m}\\sum_{i=1}^{m}||X_{project}^{(i)}||^2$"
   ]
  },
  {
   "cell_type": "markdown",
   "metadata": {},
   "source": [
    "$\\overline X_{project} = 0$ $\\quad$零向量"
   ]
  },
  {
   "cell_type": "markdown",
   "metadata": {},
   "source": [
    "问题：如何使用原来特征数据$X^{(i)}$计算映射后的$X_{project}^{(i)}$"
   ]
  },
  {
   "cell_type": "markdown",
   "metadata": {},
   "source": [
    "图"
   ]
  },
  {
   "cell_type": "markdown",
   "metadata": {},
   "source": [
    "如上图所示，$||X_{project}^{(i)}||$就是向量$X^{(i)}$在向量$W$上的投影，由此可得：\n",
    "\n",
    "$X^{(i)}·W = ||X^{(i)}||·||W||·\\cos \\theta$"
   ]
  },
  {
   "cell_type": "markdown",
   "metadata": {},
   "source": [
    "因为我们只需要求得轴的反向向量，所以我们取轴的方向向量即可，即$||W|| = 1$，因此可得：\n",
    "\n",
    "$X^{(i)}·W = ||X^{(i)}||·||W||·\\cos \\theta = ||X^{(i)}||·\\cos \\theta = OA·\\cos \\theta = OP = ||X_{project}^{(i)}||$"
   ]
  },
  {
   "cell_type": "markdown",
   "metadata": {},
   "source": [
    "因此，有：\n",
    "\n",
    "$Var(X_{project}) = \\frac {1}{m}\\sum_{i=1}^{m}||X_{project}^{(i)}||^2 = \\frac {1}{m}\\sum_{i=1}^{m}||X^{(i)}·W||^2 = \\frac {1}{m}\\sum_{i=1}^{m}(X^{(i)}·W)^2$"
   ]
  },
  {
   "cell_type": "markdown",
   "metadata": {},
   "source": [
    "两个向量的点乘是一个数。"
   ]
  },
  {
   "cell_type": "markdown",
   "metadata": {},
   "source": [
    "由此，主成分分析算法的求解问题变为：\n",
    "\n",
    "目标：求$W$，使得$Var(X_{project}) = \\frac {1}{m}\\sum_{i=1}^{m}(X^{(i)}·W)^2$最大化"
   ]
  },
  {
   "cell_type": "markdown",
   "metadata": {},
   "source": [
    "拓展到多维有：\n",
    "\n",
    "$Var(X_{project}) = \\frac {1}{m}\\sum_{i=1}^{m}(x_{1}^{(i)}w_{1} + x_{2}^{(i)}w_{2} + …… + x_{n}^{(i)}w_{n})^2$\n",
    "\n",
    "$X^{(i)} = (x_{1}^{(i)},x_{2}^{(i)},……，x_{n}^{(i)})$ $\\quad n$个特征维度"
   ]
  },
  {
   "cell_type": "markdown",
   "metadata": {},
   "source": [
    "典型的非监督学习算法，因为目标函数中只有特征$X^{(i)}$的信息，没有标签（输出）$y^{(i)}$的信息。"
   ]
  },
  {
   "cell_type": "markdown",
   "metadata": {},
   "source": [
    "### 2、梯度上升法求解PCA"
   ]
  },
  {
   "cell_type": "markdown",
   "metadata": {},
   "source": [
    "目标：求$W$，使得$f(X) = \\frac {1}{m}\\sum_{i=1}^{m}(x_{1}^{(i)}w_{1} + x_{2}^{(i)}w_{2} + …… + x_{n}^{(i)}w_{n})^2$最大化"
   ]
  },
  {
   "cell_type": "markdown",
   "metadata": {},
   "source": [
    "$\\triangledown f = \\begin{bmatrix} \\frac {\\alpha f}{\\alpha w_1} \\\\ \\frac {\\alpha f}{\\alpha w_3} \\\\ \\vdots \\\\ \\frac {\\alpha f}{\\alpha w_n}\\end{bmatrix} = \\frac {2}{m}X^T(XW)$"
   ]
  },
  {
   "cell_type": "markdown",
   "metadata": {},
   "source": [
    "### 3、梯度上升法求解PCA问题实现"
   ]
  },
  {
   "cell_type": "code",
   "execution_count": 1,
   "metadata": {},
   "outputs": [],
   "source": [
    "import numpy as np\n",
    "import matplotlib.pyplot as plt"
   ]
  },
  {
   "cell_type": "code",
   "execution_count": 2,
   "metadata": {},
   "outputs": [
    {
     "name": "stdout",
     "output_type": "stream",
     "text": [
      "48.58779276001458 40.2795376570117\n"
     ]
    },
    {
     "data": {
      "image/png": "[encoded data removed]",
      "text/plain": [
       "<Figure size 432x288 with 1 Axes>"
      ]
     },
     "metadata": {
      "needs_background": "light"
     },
     "output_type": "display_data"
    }
   ],
   "source": [
    "# 产生ndata个样本，每个样本2个特征\n",
    "np.random.seed(1)\n",
    "ndata = 100\n",
    "X = np.empty((ndata, 2))\n",
    "X[:, 0] = np.random.uniform(0.0, 100.0, size = ndata)\n",
    "X[:, 1] = 0.75 * X[:, 0] + 3.0 + np.random.normal(0.0, 10.0, size = ndata)\n",
    "\n",
    "print(np.mean(X[:, 0]), np.mean(X[:, 1]))\n",
    "\n",
    "plt.scatter(X[:, 0], X[:, 1], color = \"r\")\n",
    "plt.show()"
   ]
  },
  {
   "cell_type": "code",
   "execution_count": 3,
   "metadata": {},
   "outputs": [
    {
     "data": {
      "image/png": "[encoded data removed]",
      "text/plain": [
       "<Figure size 432x288 with 1 Axes>"
      ]
     },
     "metadata": {
      "needs_background": "light"
     },
     "output_type": "display_data"
    }
   ],
   "source": [
    "# 数据均值归零\n",
    "def demean(X):\n",
    "    return X - np.mean(X, axis = 0)\n",
    "\n",
    "X_demean = demean(X)\n",
    "plt.scatter(X_demean[:, 0], X_demean[:, 1], color = \"r\")\n",
    "plt.show()"
   ]
  },
  {
   "cell_type": "code",
   "execution_count": 4,
   "metadata": {},
   "outputs": [
    {
     "name": "stdout",
     "output_type": "stream",
     "text": [
      "-3.3395508580724707e-15 9.592326932761353e-15\n"
     ]
    }
   ],
   "source": [
    "print(np.mean(X_demean[:, 0]), np.mean(X_demean[:, 1]))"
   ]
  },
  {
   "cell_type": "code",
   "execution_count": 5,
   "metadata": {},
   "outputs": [],
   "source": [
    "# 梯度上升法求解\n",
    "\n",
    "# 目标函数\n",
    "def f(W, X):\n",
    "    return np.sum(X.dot(W)**2)/len(X)\n",
    "\n",
    "# 目标函数梯度\n",
    "def df(W, X):\n",
    "    return X.T.dot(X.dot(W))*2/len(X)\n",
    "\n",
    "# 使得W的长度等于1\n",
    "def direction(W):\n",
    "    return W/np.linalg.norm(W)\n",
    "\n",
    "def first_component(X, initial_W, eta, n_iters = 1e4, epsition = 1e-8):\n",
    "    cur_iter = 0\n",
    "    W = direction(initial_W)\n",
    "    while cur_iter < n_iters:\n",
    "        gradient = df(W, X)\n",
    "        last_W  = W\n",
    "        W = W + eta * gradient\n",
    "        W = direction(initial_W)\n",
    "        if (abs(f(W, X) - f(last_W, X)) < epsition):\n",
    "            break  \n",
    "        cur_iter += 1\n",
    "        \n",
    "    return W"
   ]
  },
  {
   "cell_type": "code",
   "execution_count": 6,
   "metadata": {},
   "outputs": [
    {
     "name": "stdout",
     "output_type": "stream",
     "text": [
      "[0.4359949  0.02592623]\n",
      "[0.99823666 0.05935967]\n"
     ]
    },
    {
     "data": {
      "image/png": "[encoded data removed]",
      "text/plain": [
       "<Figure size 432x288 with 1 Axes>"
      ]
     },
     "metadata": {
      "needs_background": "light"
     },
     "output_type": "display_data"
    }
   ],
   "source": [
    "np.random.seed(2)\n",
    "initial_W = np.random.random(X.shape[1])\n",
    "print(initial_W)\n",
    "eta = 0.01\n",
    "W = first_component(X_demean, initial_W, eta)\n",
    "\n",
    "print(W)\n",
    "\n",
    "plt.scatter(X_demean[:, 0], X_demean[:, 1], color = 'r')\n",
    "plt.plot([0, W[0] * 30], [0, W[1] * 30], color = 'b')\n",
    "plt.show()"
   ]
  }
 ],
 "metadata": {
  "kernelspec": {
   "display_name": "Python 3",
   "language": "python",
   "name": "python3"
  },
  "language_info": {
   "codemirror_mode": {
    "name": "ipython",
    "version": 3
   },
   "file_extension": ".py",
   "mimetype": "text/x-python",
   "name": "python",
   "nbconvert_exporter": "python",
   "pygments_lexer": "ipython3",
   "version": "3.6.4"
  }
 },
 "nbformat": 4,
 "nbformat_minor": 2
}
