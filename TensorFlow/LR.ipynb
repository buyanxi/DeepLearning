{
 "cells": [
  {
   "cell_type": "markdown",
   "metadata": {},
   "source": [
    "### 使用TensorFlow实现线性回归LR"
   ]
  },
  {
   "cell_type": "code",
   "execution_count": 1,
   "metadata": {},
   "outputs": [],
   "source": [
    "import numpy as np\n",
    "import tensorflow as tf\n",
    "import matplotlib.pyplot as plt"
   ]
  },
  {
   "cell_type": "markdown",
   "metadata": {},
   "source": [
    "生成具有一定线性的数据/ $y = 2x$\n",
    "\n",
    "numpy.linspace(start, stop, num=50, endpoint=True, retstep=False, dtype=None)\n",
    "<br>$\\qquad$ 在指定的间隔内返回均匀间隔的数字。\n",
    "\n",
    "numpy.random.normal(loc=0.0, scale=1.0, size=None)\n",
    "<br>$\\qquad$ loc：float 此概率分布的均值（对应着整个分布的中心centre）\n",
    "<br>$\\qquad$ scale：float 此概率分布的标准差（对应于分布的宽度，scale越大越矮胖，scale越小，越瘦高）\n",
    "<br>$\\qquad$ size：int or tuple of ints 输出的shape，默认为None，只输出一个值\n",
    "\n",
    "np.random.randn(size)所谓标准正态分布，对应于np.random.normal(loc=0, scale=1, size)。"
   ]
  },
  {
   "cell_type": "code",
   "execution_count": 2,
   "metadata": {},
   "outputs": [
    {
     "data": {
      "image/png": "[encoded data removed]",
      "text/plain": [
       "<matplotlib.figure.Figure at 0x7f7718282160>"
      ]
     },
     "metadata": {},
     "output_type": "display_data"
    }
   ],
   "source": [
    "datasize = 100\n",
    "train_X = np.linspace(start = -1, stop = 1, num = datasize)\n",
    "train_Y = 2.0 * train_X + np.random.normal(loc = 0.0, scale = 1.0, size = datasize)\n",
    "\n",
    "plt.plot(train_X, train_Y, 'ro', label = 'Original data')\n",
    "plt.legend()\n",
    "plt.show()"
   ]
  },
  {
   "cell_type": "markdown",
   "metadata": {},
   "source": [
    "创建模型\n",
    "\n",
    "tf.placeholder(dtype, shape=None, name=None)\n",
    "<br>$\\qquad$ 此函数可以理解为形参，用于定义过程，在执行的时候再赋具体的值\n",
    "<br>$\\qquad$ dtype: 数据类型,常用的是tf.float32,tf.float64等数值类型\n",
    "<br>$\\qquad$ shape: 数据形状,默认是None，就是一维值，也可以是多维，比如[2,3], [None, 3]表示列是3，行不定\n",
    "<br>$\\qquad$ name: 操作的名称\n",
    "\n",
    "tf.Variable(initializer,name)\n",
    "<br>$\\qquad$ 变量，参数\n",
    "<br>$\\qquad$ initializer：初始化参数\n",
    "<br>$\\qquad$ name：可自定义的变量名称\n",
    "\n",
    "tf.random_normal(shape, mean=0.0, stddev=1.0, dtype=tf.float32, seed=None, name=None)\n",
    "<br>$\\qquad$ 函数用于从服从指定正太分布的数值中取出指定个数的值。\n",
    "<br>$\\qquad$ shape: 输出张量的形状，必选\n",
    "<br>$\\qquad$ mean: 正态分布的均值，默认为0\n",
    "<br>$\\qquad$ stddev: 正态分布的标准差，默认为1.0\n",
    "<br>$\\qquad$ dtype: 输出的类型，float16、float32、float64、int32、orint64,默认为tf.float32\n",
    "<br>$\\qquad$ seed: 随机数种子，是一个整数，当设置之后，每次生成的随机数都一样\n",
    "<br>$\\qquad$ name: 操作的名称\n",
    "\n",
    "tf.random_uniform(shape, minval=0, maxval=None, dtype=tf.float32, seed=None, name=None)\n",
    "<br>$\\qquad$ 函数用于从服从均匀分布中输出随机值。\n",
    "<br>$\\qquad$ shape: 输出张量的形状，必选\n",
    "<br>$\\qquad$ minval: dtype 类型的 0-D 张量或 Python 值；生成的随机值范围的下限；默认为0。\n",
    "<br>$\\qquad$ maxval: dtype 类型的 0-D 张量或 Python 值。要生成的随机值范围的上限。如果 dtype 是浮点，则默认为1 。\n",
    "<br>$\\qquad$ dtype: 输出的类型，float16、float32、float64、int32、orint64,默认为tf.float32\n",
    "<br>$\\qquad$ seed: 随机数种子，是一个整数，当设置之后，每次生成的随机数都一样\n",
    "<br>$\\qquad$ name: 操作的名称\n",
    "\n",
    "tf.reduce_mean(input_tensor, axis=None, keep_dims=False, name=None, reduction_indices=None)\n",
    "<br>$\\qquad$ 函数用于计算张量tensor沿着指定的数轴（tensor的某一维度）上的的平均值，主要用作降维或者计算tensor（图像）的平均值。\n",
    "<br>$\\qquad$ input_tensor： 输入的待降维的tensor\n",
    "<br>$\\qquad$ axis： 指定的轴，如果不指定，则计算所有元素的均值\n",
    "<br>$\\qquad$ keep_dims： 是否降维度，设置为True，输出的结果保持输入tensor的形状，设置为False，输出结果会降低维度\n",
    "<br>$\\qquad$ name：  操作的名称\n",
    "<br>$\\qquad$ reduction_indices： 在以前版本中用来指定轴，已弃用\n"
   ]
  },
  {
   "cell_type": "code",
   "execution_count": 3,
   "metadata": {},
   "outputs": [],
   "source": [
    "# 占位符\n",
    "X = tf.placeholder(tf.float32)\n",
    "Y = tf.placeholder(tf.float32)\n",
    "\n",
    "# 模型参数\n",
    "W = tf.Variable(tf.random_normal([1], seed = 1), name = \"weight\")\n",
    "b = tf.Variable(tf.zeros([1]), name = \"bias\")\n",
    "\n",
    "# 前向结构\n",
    "Y_hat = tf.multiply(X, W) + b\n",
    "\n",
    "# 反向优化   cost = 1/m * sum((Y - Y_hat)^2)\n",
    "cost = tf.reduce_mean(tf.square(Y - Y_hat))\n",
    "learning_rate = 0.01\n",
    "optimizer = tf.train.GradientDescentOptimizer(learning_rate).minimize(cost)"
   ]
  },
  {
   "cell_type": "markdown",
   "metadata": {},
   "source": [
    "迭代训练模型"
   ]
  },
  {
   "cell_type": "code",
   "execution_count": 25,
   "metadata": {},
   "outputs": [
    {
     "name": "stdout",
     "output_type": "stream",
     "text": [
      "Epoch: 0 cost =  2.11188 W =  [ 0.39102468] b =  [ 0.30516696]\n",
      "Epoch: 2 cost =  1.10971 W =  [ 1.52735507] b =  [-0.01855542]\n",
      "Epoch: 4 cost =  1.02253 W =  [ 1.83339584] b =  [-0.13410659]\n",
      "Epoch: 6 cost =  1.01468 W =  [ 1.91273415] b =  [-0.16452047]\n",
      "Epoch: 8 cost =  1.01364 W =  [ 1.93325222] b =  [-0.17239361]\n",
      "Epoch: 10 cost =  1.01344 W =  [ 1.93855751] b =  [-0.17442949]\n",
      "Epoch: 12 cost =  1.0134 W =  [ 1.93992865] b =  [-0.17495568]\n",
      "Epoch: 14 cost =  1.01338 W =  [ 1.94028318] b =  [-0.17509173]\n",
      "Epoch: 16 cost =  1.01338 W =  [ 1.94037497] b =  [-0.17512691]\n",
      "Epoch: 18 cost =  1.01338 W =  [ 1.94039905] b =  [-0.17513615]\n",
      "Training Finished!\n",
      "cost =  1.01338 W =  [ 1.94040346] b =  [-0.17513783]\n"
     ]
    }
   ],
   "source": [
    "# 初始化所有变量\n",
    "init = tf.global_variables_initializer()\n",
    "\n",
    "# 定义参数\n",
    "train_epochs = 20\n",
    "display_step = 2\n",
    "\n",
    "# 启动session\n",
    "sess = tf.Session()\n",
    "sess.run(init)\n",
    "plotdata = {\"batchsize\":[], \"loss\":[]}\n",
    "for epoch in range(train_epochs):\n",
    "    for x, y in zip(train_X, train_Y):\n",
    "        sess.run(optimizer, feed_dict = {X:x, Y:y})\n",
    "\n",
    "    if epoch % display_step == 0:\n",
    "        loss = sess.run(cost, feed_dict = {X:train_X, Y:train_Y})\n",
    "        print(\"Epoch:\", epoch, \"cost = \", loss, \"W = \", sess.run(W), \"b = \", sess.run(b))\n",
    "\n",
    "        if not (loss == 'NAN'):\n",
    "            plotdata[\"batchsize\"].append(epoch)\n",
    "            plotdata[\"loss\"].append(loss)\n",
    "\n",
    "print(\"Training Finished!\")\n",
    "print(\"cost = \",sess.run(cost, feed_dict = {X:train_X, Y:train_Y}), \"W = \", sess.run(W), \"b = \", sess.run(b))      "
   ]
  },
  {
   "cell_type": "markdown",
   "metadata": {},
   "source": [
    "训练模型可视化"
   ]
  },
  {
   "cell_type": "code",
   "execution_count": null,
   "metadata": {},
   "outputs": [],
   "source": [
    "# 定义函数\n",
    "def moving_average(a, w = 10):\n",
    "    "
   ]
  },
  {
   "cell_type": "code",
   "execution_count": 29,
   "metadata": {},
   "outputs": [
    {
     "data": {
      "image/png": "[encoded data removed]",
      "text/plain": [
       "<matplotlib.figure.Figure at 0x7f770cab7400>"
      ]
     },
     "metadata": {},
     "output_type": "display_data"
    },
    {
     "ename": "NameError",
     "evalue": "name 'moving_average' is not defined",
     "output_type": "error",
     "traceback": [
      "\u001b[0;31m---------------------------------------------------------------------------\u001b[0m",
      "\u001b[0;31mNameError\u001b[0m                                 Traceback (most recent call last)",
      "\u001b[0;32m<ipython-input-29-48ad41cc1bda>\u001b[0m in \u001b[0;36m<module>\u001b[0;34m()\u001b[0m\n\u001b[1;32m      5\u001b[0m \u001b[0mplt\u001b[0m\u001b[0;34m.\u001b[0m\u001b[0mshow\u001b[0m\u001b[0;34m(\u001b[0m\u001b[0;34m)\u001b[0m\u001b[0;34m\u001b[0m\u001b[0m\n\u001b[1;32m      6\u001b[0m \u001b[0;34m\u001b[0m\u001b[0m\n\u001b[0;32m----> 7\u001b[0;31m \u001b[0mplotdata\u001b[0m\u001b[0;34m[\u001b[0m\u001b[0;34m'avgloss'\u001b[0m\u001b[0;34m]\u001b[0m \u001b[0;34m=\u001b[0m \u001b[0mmoving_average\u001b[0m\u001b[0;34m(\u001b[0m\u001b[0mplotdata\u001b[0m\u001b[0;34m[\u001b[0m\u001b[0;34m'loss'\u001b[0m\u001b[0;34m]\u001b[0m\u001b[0;34m)\u001b[0m\u001b[0;34m\u001b[0m\u001b[0m\n\u001b[0m\u001b[1;32m      8\u001b[0m \u001b[0mplt\u001b[0m\u001b[0;34m.\u001b[0m\u001b[0mfigure\u001b[0m\u001b[0;34m(\u001b[0m\u001b[0;36m1\u001b[0m\u001b[0;34m)\u001b[0m\u001b[0;34m\u001b[0m\u001b[0m\n\u001b[1;32m      9\u001b[0m \u001b[0mplt\u001b[0m\u001b[0;34m.\u001b[0m\u001b[0msubplot\u001b[0m\u001b[0;34m(\u001b[0m\u001b[0;36m2\u001b[0m\u001b[0;34m,\u001b[0m\u001b[0;36m1\u001b[0m\u001b[0;34m,\u001b[0m\u001b[0;36m1\u001b[0m\u001b[0;34m)\u001b[0m\u001b[0;34m\u001b[0m\u001b[0m\n",
      "\u001b[0;31mNameError\u001b[0m: name 'moving_average' is not defined"
     ]
    }
   ],
   "source": [
    "# draw \n",
    "plt.plot(train_X, train_Y, \"ro\", label = \"Original data\")\n",
    "plt.plot(train_X, sess.run(W) * train_X + sess.run(b), \"b-\", label = \"Fitted Line\")\n",
    "plt.legend()\n",
    "plt.show()\n",
    "\n",
    "plotdata['avgloss'] = moving_average(plotdata['loss'])\n",
    "plt.figure(1)\n",
    "plt.subplot(2,1,1)\n",
    "plt.plot(plotdata['batchsize'], plotdata['avgloss'], \"b--\")\n",
    "plt.xlabel(\"Minibatch number\")\n",
    "plt.ylabel(\"Loss\")\n",
    "plt.title(\"Minibatch run vs. Training loss\")\n",
    "plot.show()"
   ]
  },
  {
   "cell_type": "code",
   "execution_count": 17,
   "metadata": {},
   "outputs": [],
   "source": [
    "sess.close()"
   ]
  }
 ],
 "metadata": {
  "kernelspec": {
   "display_name": "Python 3",
   "language": "python",
   "name": "python3"
  },
  "language_info": {
   "codemirror_mode": {
    "name": "ipython",
    "version": 3
   },
   "file_extension": ".py",
   "mimetype": "text/x-python",
   "name": "python",
   "nbconvert_exporter": "python",
   "pygments_lexer": "ipython3",
   "version": "3.6.4"
  }
 },
 "nbformat": 4,
 "nbformat_minor": 2
}
