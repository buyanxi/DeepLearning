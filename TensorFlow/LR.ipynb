{
 "cells": [
  {
   "cell_type": "markdown",
   "metadata": {},
   "source": [
    "### 使用TensorFlow实现线性回归LR"
   ]
  },
  {
   "cell_type": "code",
   "execution_count": 1,
   "metadata": {},
   "outputs": [],
   "source": [
    "import numpy as np\n",
    "import tensorflow as tf\n",
    "import matplotlib.pyplot as plt"
   ]
  },
  {
   "cell_type": "markdown",
   "metadata": {},
   "source": [
    "生成具有一定线性的数据/ $y = 2x$\n",
    "\n",
    "numpy.linspace(start, stop, num=50, endpoint=True, retstep=False, dtype=None)\n",
    "<br>$\\qquad$ 在指定的间隔内返回均匀间隔的数字。\n",
    "\n",
    "numpy.random.normal(loc=0.0, scale=1.0, size=None)\n",
    "<br>$\\qquad$ loc：float 此概率分布的均值（对应着整个分布的中心centre）\n",
    "<br>$\\qquad$ scale：float 此概率分布的标准差（对应于分布的宽度，scale越大越矮胖，scale越小，越瘦高）\n",
    "<br>$\\qquad$ size：int or tuple of ints 输出的shape，默认为None，只输出一个值\n",
    "\n",
    "np.random.randn(size)所谓标准正态分布，对应于np.random.normal(loc=0, scale=1, size)。"
   ]
  },
  {
   "cell_type": "code",
   "execution_count": 47,
   "metadata": {},
   "outputs": [
    {
     "data": {
      "image/png": "[encoded data removed]",
      "text/plain": [
       "<matplotlib.figure.Figure at 0x7f6590573860>"
      ]
     },
     "metadata": {},
     "output_type": "display_data"
    }
   ],
   "source": [
    "datasize = 100\n",
    "train_X = np.linspace(start = -1, stop = 1, num = datasize)\n",
    "train_Y = 2.0 * train_X + np.random.normal(loc = 0.0, scale = 1.0, size = datasize)\n",
    "\n",
    "plt.plot(train_X, train_Y, 'ro', label = 'Original data')\n",
    "plt.legend()\n",
    "plt.show()"
   ]
  },
  {
   "cell_type": "markdown",
   "metadata": {},
   "source": [
    "创建模型\n",
    "\n",
    "tf.placeholder(dtype, shape=None, name=None)\n",
    "<br>$\\qquad$ 此函数可以理解为形参，用于定义过程，在执行的时候再赋具体的值\n",
    "<br>$\\qquad$ dtype: 数据类型,常用的是tf.float32,tf.float64等数值类型\n",
    "<br>$\\qquad$ shape: 数据形状,默认是None，就是一维值，也可以是多维，比如[2,3], [None, 3]表示列是3，行不定\n",
    "<br>$\\qquad$ name: 操作的名称\n",
    "\n",
    "tf.Variable(initializer,name)\n",
    "<br>$\\qquad$ 变量，参数\n",
    "<br>$\\qquad$ initializer：初始化参数\n",
    "<br>$\\qquad$ name：可自定义的变量名称\n",
    "\n",
    "tf.random_normal(shape, mean=0.0, stddev=1.0, dtype=tf.float32, seed=None, name=None)\n",
    "<br>$\\qquad$ 函数用于从服从指定正太分布的数值中取出指定个数的值。\n",
    "<br>$\\qquad$ shape: 输出张量的形状，必选\n",
    "<br>$\\qquad$ mean: 正态分布的均值，默认为0\n",
    "<br>$\\qquad$ stddev: 正态分布的标准差，默认为1.0\n",
    "<br>$\\qquad$ dtype: 输出的类型，float16、float32、float64、int32、orint64,默认为tf.float32\n",
    "<br>$\\qquad$ seed: 随机数种子，是一个整数，当设置之后，每次生成的随机数都一样\n",
    "<br>$\\qquad$ name: 操作的名称\n",
    "\n",
    "tf.random_uniform(shape, minval=0, maxval=None, dtype=tf.float32, seed=None, name=None)\n",
    "<br>$\\qquad$ 函数用于从服从均匀分布中输出随机值。\n",
    "<br>$\\qquad$ shape: 输出张量的形状，必选\n",
    "<br>$\\qquad$ minval: dtype 类型的 0-D 张量或 Python 值；生成的随机值范围的下限；默认为0。\n",
    "<br>$\\qquad$ maxval: dtype 类型的 0-D 张量或 Python 值。要生成的随机值范围的上限。如果 dtype 是浮点，则默认为1 。\n",
    "<br>$\\qquad$ dtype: 输出的类型，float16、float32、float64、int32、orint64,默认为tf.float32\n",
    "<br>$\\qquad$ seed: 随机数种子，是一个整数，当设置之后，每次生成的随机数都一样\n",
    "<br>$\\qquad$ name: 操作的名称\n",
    "\n",
    "tf.reduce_mean(input_tensor, axis=None, keep_dims=False, name=None, reduction_indices=None)\n",
    "<br>$\\qquad$ 函数用于计算张量tensor沿着指定的数轴（tensor的某一维度）上的的平均值，主要用作降维或者计算tensor（图像）的平均值。\n",
    "<br>$\\qquad$ input_tensor： 输入的待降维的tensor\n",
    "<br>$\\qquad$ axis： 指定的轴，如果不指定，则计算所有元素的均值\n",
    "<br>$\\qquad$ keep_dims： 是否降维度，设置为True，输出的结果保持输入tensor的形状，设置为False，输出结果会降低维度\n",
    "<br>$\\qquad$ name：  操作的名称\n",
    "<br>$\\qquad$ reduction_indices： 在以前版本中用来指定轴，已弃用\n"
   ]
  },
  {
   "cell_type": "code",
   "execution_count": 46,
   "metadata": {},
   "outputs": [],
   "source": [
    "# 占位符\n",
    "X = tf.placeholder(tf.float32)\n",
    "Y = tf.placeholder(tf.float32)\n",
    "\n",
    "# 模型参数\n",
    "W = tf.Variable(tf.random_normal([1], seed = 1), name = \"weight\")\n",
    "b = tf.Variable(tf.zeros([1]), name = \"bias\")\n",
    "\n",
    "# 前向结构\n",
    "Y_hat = tf.multiply(X, W) + b\n",
    "\n",
    "# 反向优化   cost = 1/m * sum((Y - Y_hat)^2)\n",
    "cost = tf.reduce_mean(tf.square(Y - Y_hat))\n",
    "learning_rate = 0.01\n",
    "optimizer = tf.train.GradientDescentOptimizer(learning_rate).minimize(cost)"
   ]
  },
  {
   "cell_type": "markdown",
   "metadata": {},
   "source": [
    "迭代训练模型"
   ]
  },
  {
   "cell_type": "code",
   "execution_count": 49,
   "metadata": {},
   "outputs": [
    {
     "name": "stdout",
     "output_type": "stream",
     "text": [
      "Epoch: 1 cost =  2.29725 W =  [ 0.52000874] b =  [ 0.35857001]\n",
      "Epoch: 3 cost =  1.07541 W =  [ 1.78401232] b =  [ 0.00093358]\n",
      "Epoch: 5 cost =  0.971905 W =  [ 2.12470531] b =  [-0.1276615]\n",
      "Epoch: 7 cost =  0.963344 W =  [ 2.21303201] b =  [-0.16152038]\n",
      "Epoch: 9 cost =  0.962366 W =  [ 2.2358737] b =  [-0.17028508]\n",
      "Epoch: 11 cost =  0.962197 W =  [ 2.24178004] b =  [-0.17255157]\n",
      "Epoch: 13 cost =  0.962158 W =  [ 2.24330735] b =  [-0.17313771]\n",
      "Epoch: 15 cost =  0.962149 W =  [ 2.24370265] b =  [-0.17328934]\n",
      "Epoch: 17 cost =  0.962146 W =  [ 2.24380398] b =  [-0.17332831]\n",
      "Epoch: 19 cost =  0.962146 W =  [ 2.24383092] b =  [-0.17333858]\n",
      "Finished!\n",
      "cost =  0.962145 W =  [ 2.2438364] b =  [-0.1733406]\n"
     ]
    }
   ],
   "source": [
    "# 初始化所有变量\n",
    "init = tf.global_variables_initializer()\n",
    "\n",
    "# 定义参数\n",
    "train_epochs = 20\n",
    "display_step = 2\n",
    "\n",
    "# 启动session\n",
    "with tf.Session() as sess:\n",
    "    sess.run(init)\n",
    "    plotdata = {\"batchsize\":[], \"loss\":[]}\n",
    "    for epoch in range(train_epochs):\n",
    "        for x, y in zip(train_X, train_Y):\n",
    "            sess.run(optimizer, feed_dict = {X:x, Y:y})\n",
    "            \n",
    "        if epoch % display_step == 0:\n",
    "            loss = sess.run(cost, feed_dict = {X:train_X, Y:train_Y})\n",
    "            print(\"Epoch:\", epoch + 1, \"cost = \", loss, \"W = \", sess.run(W), \"b = \", sess.run(b))\n",
    "            \n",
    "            if not (loss == \"NA\"):\n",
    "                plotdata[\"batchsize\"].append(epoch)\n",
    "                plotdata[\"loss\"].append(loss)\n",
    "    \n",
    "    print(\"Finished!\")\n",
    "    print(\"cost = \",sess.run(cost, feed_dict = {X:train_X, Y:train_Y}), \"W = \", sess.run(W), \"b = \", sess.run(b))\n",
    "            "
   ]
  },
  {
   "cell_type": "markdown",
   "metadata": {},
   "source": [
    "训练模型可视化"
   ]
  },
  {
   "cell_type": "code",
   "execution_count": 59,
   "metadata": {},
   "outputs": [
    {
     "ename": "RuntimeError",
     "evalue": "Attempted to use a closed Session.",
     "output_type": "error",
     "traceback": [
      "\u001b[0;31m---------------------------------------------------------------------------\u001b[0m",
      "\u001b[0;31mRuntimeError\u001b[0m                              Traceback (most recent call last)",
      "\u001b[0;32m<ipython-input-59-3a6d55255d7d>\u001b[0m in \u001b[0;36m<module>\u001b[0;34m()\u001b[0m\n\u001b[1;32m      1\u001b[0m \u001b[0;31m#draw\u001b[0m\u001b[0;34m\u001b[0m\u001b[0;34m\u001b[0m\u001b[0m\n\u001b[1;32m      2\u001b[0m \u001b[0mplt\u001b[0m\u001b[0;34m.\u001b[0m\u001b[0mplot\u001b[0m\u001b[0;34m(\u001b[0m\u001b[0mtrain_X\u001b[0m\u001b[0;34m,\u001b[0m \u001b[0mtrain_Y\u001b[0m\u001b[0;34m,\u001b[0m \u001b[0;34m\"ro\"\u001b[0m\u001b[0;34m,\u001b[0m \u001b[0mlabel\u001b[0m \u001b[0;34m=\u001b[0m \u001b[0;34m\"Original data\"\u001b[0m\u001b[0;34m)\u001b[0m\u001b[0;34m\u001b[0m\u001b[0m\n\u001b[0;32m----> 3\u001b[0;31m \u001b[0mplt\u001b[0m\u001b[0;34m.\u001b[0m\u001b[0mplot\u001b[0m\u001b[0;34m(\u001b[0m\u001b[0mtrain_X\u001b[0m\u001b[0;34m,\u001b[0m \u001b[0msess\u001b[0m\u001b[0;34m.\u001b[0m\u001b[0mrun\u001b[0m\u001b[0;34m(\u001b[0m\u001b[0mW\u001b[0m\u001b[0;34m)\u001b[0m \u001b[0;34m*\u001b[0m \u001b[0mtrain_X\u001b[0m \u001b[0;34m+\u001b[0m \u001b[0msess\u001b[0m\u001b[0;34m.\u001b[0m\u001b[0mrun\u001b[0m\u001b[0;34m(\u001b[0m\u001b[0mb\u001b[0m\u001b[0;34m)\u001b[0m\u001b[0;34m)\u001b[0m\u001b[0;34m\u001b[0m\u001b[0m\n\u001b[0m",
      "\u001b[0;32m~/anaconda3/lib/python3.6/site-packages/tensorflow/python/client/session.py\u001b[0m in \u001b[0;36mrun\u001b[0;34m(self, fetches, feed_dict, options, run_metadata)\u001b[0m\n\u001b[1;32m    927\u001b[0m     \u001b[0;32mtry\u001b[0m\u001b[0;34m:\u001b[0m\u001b[0;34m\u001b[0m\u001b[0m\n\u001b[1;32m    928\u001b[0m       result = self._run(None, fetches, feed_dict, options_ptr,\n\u001b[0;32m--> 929\u001b[0;31m                          run_metadata_ptr)\n\u001b[0m\u001b[1;32m    930\u001b[0m       \u001b[0;32mif\u001b[0m \u001b[0mrun_metadata\u001b[0m\u001b[0;34m:\u001b[0m\u001b[0;34m\u001b[0m\u001b[0m\n\u001b[1;32m    931\u001b[0m         \u001b[0mproto_data\u001b[0m \u001b[0;34m=\u001b[0m \u001b[0mtf_session\u001b[0m\u001b[0;34m.\u001b[0m\u001b[0mTF_GetBuffer\u001b[0m\u001b[0;34m(\u001b[0m\u001b[0mrun_metadata_ptr\u001b[0m\u001b[0;34m)\u001b[0m\u001b[0;34m\u001b[0m\u001b[0m\n",
      "\u001b[0;32m~/anaconda3/lib/python3.6/site-packages/tensorflow/python/client/session.py\u001b[0m in \u001b[0;36m_run\u001b[0;34m(self, handle, fetches, feed_dict, options, run_metadata)\u001b[0m\n\u001b[1;32m   1073\u001b[0m     \u001b[0;31m# Check session.\u001b[0m\u001b[0;34m\u001b[0m\u001b[0;34m\u001b[0m\u001b[0m\n\u001b[1;32m   1074\u001b[0m     \u001b[0;32mif\u001b[0m \u001b[0mself\u001b[0m\u001b[0;34m.\u001b[0m\u001b[0m_closed\u001b[0m\u001b[0;34m:\u001b[0m\u001b[0;34m\u001b[0m\u001b[0m\n\u001b[0;32m-> 1075\u001b[0;31m       \u001b[0;32mraise\u001b[0m \u001b[0mRuntimeError\u001b[0m\u001b[0;34m(\u001b[0m\u001b[0;34m'Attempted to use a closed Session.'\u001b[0m\u001b[0;34m)\u001b[0m\u001b[0;34m\u001b[0m\u001b[0m\n\u001b[0m\u001b[1;32m   1076\u001b[0m     \u001b[0;32mif\u001b[0m \u001b[0mself\u001b[0m\u001b[0;34m.\u001b[0m\u001b[0mgraph\u001b[0m\u001b[0;34m.\u001b[0m\u001b[0mversion\u001b[0m \u001b[0;34m==\u001b[0m \u001b[0;36m0\u001b[0m\u001b[0;34m:\u001b[0m\u001b[0;34m\u001b[0m\u001b[0m\n\u001b[1;32m   1077\u001b[0m       raise RuntimeError('The Session graph is empty.  Add operations to the '\n",
      "\u001b[0;31mRuntimeError\u001b[0m: Attempted to use a closed Session."
     ]
    },
    {
     "data": {
      "image/png": "[encoded data removed]",
      "text/plain": [
       "<matplotlib.figure.Figure at 0x7f65887eb5c0>"
      ]
     },
     "metadata": {},
     "output_type": "display_data"
    }
   ],
   "source": [
    "#draw \n",
    "plt.plot(train_X, train_Y, \"ro\", label = \"Original data\")\n",
    "plt.plot(train_X, sess.run(W) * train_X + sess.run(b), label = \"Fitted Line\")"
   ]
  },
  {
   "cell_type": "code",
   "execution_count": null,
   "metadata": {},
   "outputs": [],
   "source": []
  }
 ],
 "metadata": {
  "kernelspec": {
   "display_name": "Python 3",
   "language": "python",
   "name": "python3"
  },
  "language_info": {
   "codemirror_mode": {
    "name": "ipython",
    "version": 3
   },
   "file_extension": ".py",
   "mimetype": "text/x-python",
   "name": "python",
   "nbconvert_exporter": "python",
   "pygments_lexer": "ipython3",
   "version": "3.6.4"
  }
 },
 "nbformat": 4,
 "nbformat_minor": 2
}
